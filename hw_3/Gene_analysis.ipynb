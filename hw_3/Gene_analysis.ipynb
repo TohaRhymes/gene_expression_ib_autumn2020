{
 "cells": [
  {
   "cell_type": "code",
   "execution_count": 44,
   "metadata": {},
   "outputs": [],
   "source": [
    "import pandas as pd\n",
    "import numpy as np\n",
    "import matplotlib.pyplot as plt"
   ]
  },
  {
   "cell_type": "markdown",
   "metadata": {},
   "source": [
    "## Fusion genes from pizzly"
   ]
  },
  {
   "cell_type": "code",
   "execution_count": 35,
   "metadata": {},
   "outputs": [
    {
     "data": {
      "text/html": [
       "<div>\n",
       "<style scoped>\n",
       "    .dataframe tbody tr th:only-of-type {\n",
       "        vertical-align: middle;\n",
       "    }\n",
       "\n",
       "    .dataframe tbody tr th {\n",
       "        vertical-align: top;\n",
       "    }\n",
       "\n",
       "    .dataframe thead th {\n",
       "        text-align: right;\n",
       "    }\n",
       "</style>\n",
       "<table border=\"1\" class=\"dataframe\">\n",
       "  <thead>\n",
       "    <tr style=\"text-align: right;\">\n",
       "      <th></th>\n",
       "      <th>geneA.name</th>\n",
       "      <th>geneB.name</th>\n",
       "      <th>paircount</th>\n",
       "      <th>splitcount</th>\n",
       "    </tr>\n",
       "  </thead>\n",
       "  <tbody>\n",
       "    <tr>\n",
       "      <th>43</th>\n",
       "      <td>BSG</td>\n",
       "      <td>NFIX</td>\n",
       "      <td>19</td>\n",
       "      <td>3</td>\n",
       "    </tr>\n",
       "    <tr>\n",
       "      <th>100</th>\n",
       "      <td>NPEPPS</td>\n",
       "      <td>TBC1D3D</td>\n",
       "      <td>6</td>\n",
       "      <td>1</td>\n",
       "    </tr>\n",
       "    <tr>\n",
       "      <th>107</th>\n",
       "      <td>NPEPPS</td>\n",
       "      <td>TBC1D3K</td>\n",
       "      <td>6</td>\n",
       "      <td>1</td>\n",
       "    </tr>\n",
       "    <tr>\n",
       "      <th>106</th>\n",
       "      <td>NPEPPS</td>\n",
       "      <td>TBC1D3L</td>\n",
       "      <td>6</td>\n",
       "      <td>1</td>\n",
       "    </tr>\n",
       "    <tr>\n",
       "      <th>105</th>\n",
       "      <td>NPEPPS</td>\n",
       "      <td>TBC1D3C</td>\n",
       "      <td>6</td>\n",
       "      <td>1</td>\n",
       "    </tr>\n",
       "    <tr>\n",
       "      <th>104</th>\n",
       "      <td>NPEPPS</td>\n",
       "      <td>TBC1D3H</td>\n",
       "      <td>6</td>\n",
       "      <td>1</td>\n",
       "    </tr>\n",
       "    <tr>\n",
       "      <th>103</th>\n",
       "      <td>NPEPPS</td>\n",
       "      <td>TBC1D3E</td>\n",
       "      <td>6</td>\n",
       "      <td>1</td>\n",
       "    </tr>\n",
       "    <tr>\n",
       "      <th>101</th>\n",
       "      <td>NPEPPS</td>\n",
       "      <td>TBC1D3</td>\n",
       "      <td>6</td>\n",
       "      <td>1</td>\n",
       "    </tr>\n",
       "    <tr>\n",
       "      <th>102</th>\n",
       "      <td>NPEPPS</td>\n",
       "      <td>TBC1D3G</td>\n",
       "      <td>6</td>\n",
       "      <td>1</td>\n",
       "    </tr>\n",
       "    <tr>\n",
       "      <th>99</th>\n",
       "      <td>NPEPPS</td>\n",
       "      <td>TBC1D3I</td>\n",
       "      <td>6</td>\n",
       "      <td>1</td>\n",
       "    </tr>\n",
       "    <tr>\n",
       "      <th>113</th>\n",
       "      <td>NOTCH1</td>\n",
       "      <td>NUP214</td>\n",
       "      <td>5</td>\n",
       "      <td>4</td>\n",
       "    </tr>\n",
       "    <tr>\n",
       "      <th>132</th>\n",
       "      <td>PTMA</td>\n",
       "      <td>HMGB1</td>\n",
       "      <td>5</td>\n",
       "      <td>2</td>\n",
       "    </tr>\n",
       "    <tr>\n",
       "      <th>56</th>\n",
       "      <td>EEF1A1</td>\n",
       "      <td>HSP90AB1</td>\n",
       "      <td>3</td>\n",
       "      <td>1</td>\n",
       "    </tr>\n",
       "    <tr>\n",
       "      <th>64</th>\n",
       "      <td>SET</td>\n",
       "      <td>PTMA</td>\n",
       "      <td>3</td>\n",
       "      <td>1</td>\n",
       "    </tr>\n",
       "    <tr>\n",
       "      <th>156</th>\n",
       "      <td>HSP90AB1</td>\n",
       "      <td>HSP90AA1</td>\n",
       "      <td>3</td>\n",
       "      <td>2</td>\n",
       "    </tr>\n",
       "    <tr>\n",
       "      <th>92</th>\n",
       "      <td>PPP1R12A</td>\n",
       "      <td>SEPTIN10</td>\n",
       "      <td>2</td>\n",
       "      <td>4</td>\n",
       "    </tr>\n",
       "    <tr>\n",
       "      <th>78</th>\n",
       "      <td>RPS2</td>\n",
       "      <td>FTH1</td>\n",
       "      <td>1</td>\n",
       "      <td>1</td>\n",
       "    </tr>\n",
       "    <tr>\n",
       "      <th>75</th>\n",
       "      <td>CENPX</td>\n",
       "      <td>DUS1L</td>\n",
       "      <td>1</td>\n",
       "      <td>1</td>\n",
       "    </tr>\n",
       "    <tr>\n",
       "      <th>74</th>\n",
       "      <td>RCN1</td>\n",
       "      <td>ERBB2</td>\n",
       "      <td>1</td>\n",
       "      <td>1</td>\n",
       "    </tr>\n",
       "    <tr>\n",
       "      <th>130</th>\n",
       "      <td>RPL15</td>\n",
       "      <td>CANX</td>\n",
       "      <td>1</td>\n",
       "      <td>1</td>\n",
       "    </tr>\n",
       "  </tbody>\n",
       "</table>\n",
       "</div>"
      ],
      "text/plain": [
       "    geneA.name geneB.name  paircount  splitcount\n",
       "43         BSG       NFIX         19           3\n",
       "100     NPEPPS    TBC1D3D          6           1\n",
       "107     NPEPPS    TBC1D3K          6           1\n",
       "106     NPEPPS    TBC1D3L          6           1\n",
       "105     NPEPPS    TBC1D3C          6           1\n",
       "104     NPEPPS    TBC1D3H          6           1\n",
       "103     NPEPPS    TBC1D3E          6           1\n",
       "101     NPEPPS     TBC1D3          6           1\n",
       "102     NPEPPS    TBC1D3G          6           1\n",
       "99      NPEPPS    TBC1D3I          6           1\n",
       "113     NOTCH1     NUP214          5           4\n",
       "132       PTMA      HMGB1          5           2\n",
       "56      EEF1A1   HSP90AB1          3           1\n",
       "64         SET       PTMA          3           1\n",
       "156   HSP90AB1   HSP90AA1          3           2\n",
       "92    PPP1R12A   SEPTIN10          2           4\n",
       "78        RPS2       FTH1          1           1\n",
       "75       CENPX      DUS1L          1           1\n",
       "74        RCN1      ERBB2          1           1\n",
       "130      RPL15       CANX          1           1"
      ]
     },
     "execution_count": 35,
     "metadata": {},
     "output_type": "execute_result"
    }
   ],
   "source": [
    "cancer_fusion = pd.read_csv('all_data/cancer_fusion.txt', sep = '\\t')\n",
    "cancer_fusion = cancer_fusion.iloc[:,[0, 2, 4, 5]]\n",
    "cancer_fusion[(cancer_fusion.paircount != 0) & (cancer_fusion.splitcount !=0)].sort_values(by='paircount', ascending=False)"
   ]
  },
  {
   "cell_type": "code",
   "execution_count": 34,
   "metadata": {},
   "outputs": [
    {
     "data": {
      "text/html": [
       "<div>\n",
       "<style scoped>\n",
       "    .dataframe tbody tr th:only-of-type {\n",
       "        vertical-align: middle;\n",
       "    }\n",
       "\n",
       "    .dataframe tbody tr th {\n",
       "        vertical-align: top;\n",
       "    }\n",
       "\n",
       "    .dataframe thead th {\n",
       "        text-align: right;\n",
       "    }\n",
       "</style>\n",
       "<table border=\"1\" class=\"dataframe\">\n",
       "  <thead>\n",
       "    <tr style=\"text-align: right;\">\n",
       "      <th></th>\n",
       "      <th>geneA.name</th>\n",
       "      <th>geneB.name</th>\n",
       "      <th>paircount</th>\n",
       "      <th>splitcount</th>\n",
       "    </tr>\n",
       "  </thead>\n",
       "  <tbody>\n",
       "    <tr>\n",
       "      <th>24</th>\n",
       "      <td>HLA-C</td>\n",
       "      <td>HLA-B</td>\n",
       "      <td>87</td>\n",
       "      <td>9</td>\n",
       "    </tr>\n",
       "    <tr>\n",
       "      <th>47</th>\n",
       "      <td>CCDC32</td>\n",
       "      <td>CBX3</td>\n",
       "      <td>2</td>\n",
       "      <td>1</td>\n",
       "    </tr>\n",
       "    <tr>\n",
       "      <th>27</th>\n",
       "      <td>NPEPPS</td>\n",
       "      <td>TBC1D3D</td>\n",
       "      <td>1</td>\n",
       "      <td>3</td>\n",
       "    </tr>\n",
       "    <tr>\n",
       "      <th>28</th>\n",
       "      <td>NPEPPS</td>\n",
       "      <td>TBC1D3I</td>\n",
       "      <td>1</td>\n",
       "      <td>3</td>\n",
       "    </tr>\n",
       "    <tr>\n",
       "      <th>29</th>\n",
       "      <td>NPEPPS</td>\n",
       "      <td>TBC1D3L</td>\n",
       "      <td>1</td>\n",
       "      <td>3</td>\n",
       "    </tr>\n",
       "    <tr>\n",
       "      <th>30</th>\n",
       "      <td>NPEPPS</td>\n",
       "      <td>TBC1D3K</td>\n",
       "      <td>1</td>\n",
       "      <td>3</td>\n",
       "    </tr>\n",
       "    <tr>\n",
       "      <th>31</th>\n",
       "      <td>NPEPPS</td>\n",
       "      <td>TBC1D3</td>\n",
       "      <td>1</td>\n",
       "      <td>3</td>\n",
       "    </tr>\n",
       "    <tr>\n",
       "      <th>32</th>\n",
       "      <td>NPEPPS</td>\n",
       "      <td>TBC1D3G</td>\n",
       "      <td>1</td>\n",
       "      <td>3</td>\n",
       "    </tr>\n",
       "    <tr>\n",
       "      <th>33</th>\n",
       "      <td>NPEPPS</td>\n",
       "      <td>TBC1D3E</td>\n",
       "      <td>1</td>\n",
       "      <td>3</td>\n",
       "    </tr>\n",
       "    <tr>\n",
       "      <th>34</th>\n",
       "      <td>NPEPPS</td>\n",
       "      <td>TBC1D3C</td>\n",
       "      <td>1</td>\n",
       "      <td>3</td>\n",
       "    </tr>\n",
       "    <tr>\n",
       "      <th>35</th>\n",
       "      <td>NPEPPS</td>\n",
       "      <td>TBC1D3H</td>\n",
       "      <td>1</td>\n",
       "      <td>3</td>\n",
       "    </tr>\n",
       "  </tbody>\n",
       "</table>\n",
       "</div>"
      ],
      "text/plain": [
       "   geneA.name geneB.name  paircount  splitcount\n",
       "24      HLA-C      HLA-B         87           9\n",
       "47     CCDC32       CBX3          2           1\n",
       "27     NPEPPS    TBC1D3D          1           3\n",
       "28     NPEPPS    TBC1D3I          1           3\n",
       "29     NPEPPS    TBC1D3L          1           3\n",
       "30     NPEPPS    TBC1D3K          1           3\n",
       "31     NPEPPS     TBC1D3          1           3\n",
       "32     NPEPPS    TBC1D3G          1           3\n",
       "33     NPEPPS    TBC1D3E          1           3\n",
       "34     NPEPPS    TBC1D3C          1           3\n",
       "35     NPEPPS    TBC1D3H          1           3"
      ]
     },
     "execution_count": 34,
     "metadata": {},
     "output_type": "execute_result"
    }
   ],
   "source": [
    "cancer_fusion = pd.read_csv('all_data/normal_fusion.txt', sep = '\\t')\n",
    "cancer_fusion = cancer_fusion.iloc[:,[0, 2, 4, 5]]\n",
    "cancer_fusion[(cancer_fusion.paircount != 0) & (cancer_fusion.splitcount !=0)].sort_values(by='paircount', ascending=False)"
   ]
  },
  {
   "cell_type": "markdown",
   "metadata": {},
   "source": [
    "## Viral genes from kallisto"
   ]
  },
  {
   "cell_type": "code",
   "execution_count": 50,
   "metadata": {},
   "outputs": [
    {
     "data": {
      "text/plain": [
       "<matplotlib.axes._subplots.AxesSubplot at 0x7fd77f79a810>"
      ]
     },
     "execution_count": 50,
     "metadata": {},
     "output_type": "execute_result"
    },
    {
     "data": {
      "image/png": "[encoded data removed]",
      "text/plain": [
       "<Figure size 432x288 with 1 Axes>"
      ]
     },
     "metadata": {
      "needs_background": "light"
     },
     "output_type": "display_data"
    }
   ],
   "source": [
    "def return_last(string):\n",
    "    return string.split(';')[-1]\n",
    "\n",
    "viral_cancer = pd.read_csv('all_data/kraken_cancer_viruses.labels', sep = '\\t', names = ['ind', 'name'])\n",
    "viral_counts = viral_cancer.name.apply(return_last).value_counts()\n",
    "viral_counts[viral_counts>7].plot(kind='bar')"
   ]
  },
  {
   "cell_type": "code",
   "execution_count": 52,
   "metadata": {},
   "outputs": [
    {
     "data": {
      "text/plain": [
       "<matplotlib.axes._subplots.AxesSubplot at 0x7fd77f729ed0>"
      ]
     },
     "execution_count": 52,
     "metadata": {},
     "output_type": "execute_result"
    },
    {
     "data": {
      "image/png": "[encoded data removed]",
      "text/plain": [
       "<Figure size 432x288 with 1 Axes>"
      ]
     },
     "metadata": {
      "needs_background": "light"
     },
     "output_type": "display_data"
    }
   ],
   "source": [
    "normal_cancer = pd.read_csv('all_data/kraken_normal_viruses.labels', sep = '\\t', names = ['ind', 'name'])\n",
    "normal_counts = normal_cancer.name.apply(return_last).value_counts()\n",
    "normal_counts[normal_counts>7].plot(kind='bar')"
   ]
  },
  {
   "cell_type": "code",
   "execution_count": 57,
   "metadata": {},
   "outputs": [
    {
     "data": {
      "text/html": [
       "<div>\n",
       "<style scoped>\n",
       "    .dataframe tbody tr th:only-of-type {\n",
       "        vertical-align: middle;\n",
       "    }\n",
       "\n",
       "    .dataframe tbody tr th {\n",
       "        vertical-align: top;\n",
       "    }\n",
       "\n",
       "    .dataframe thead th {\n",
       "        text-align: right;\n",
       "    }\n",
       "</style>\n",
       "<table border=\"1\" class=\"dataframe\">\n",
       "  <thead>\n",
       "    <tr style=\"text-align: right;\">\n",
       "      <th></th>\n",
       "      <th>normal_counts</th>\n",
       "      <th>viral_counts</th>\n",
       "    </tr>\n",
       "  </thead>\n",
       "  <tbody>\n",
       "    <tr>\n",
       "      <th>Abelson murine leukemia virus</th>\n",
       "      <td>NaN</td>\n",
       "      <td>2.0</td>\n",
       "    </tr>\n",
       "    <tr>\n",
       "      <th>Alphapapillomavirus 9</th>\n",
       "      <td>4.0</td>\n",
       "      <td>1.0</td>\n",
       "    </tr>\n",
       "    <tr>\n",
       "      <th>Apocheima cinerarium nucleopolyhedrovirus</th>\n",
       "      <td>1.0</td>\n",
       "      <td>NaN</td>\n",
       "    </tr>\n",
       "    <tr>\n",
       "      <th>Aspergillus foetidus dsRNA mycovirus</th>\n",
       "      <td>6.0</td>\n",
       "      <td>NaN</td>\n",
       "    </tr>\n",
       "    <tr>\n",
       "      <th>Bacillus phage Stitch</th>\n",
       "      <td>16.0</td>\n",
       "      <td>1.0</td>\n",
       "    </tr>\n",
       "  </tbody>\n",
       "</table>\n",
       "</div>"
      ],
      "text/plain": [
       "                                           normal_counts  viral_counts\n",
       "Abelson murine leukemia virus                        NaN           2.0\n",
       "Alphapapillomavirus 9                                4.0           1.0\n",
       "Apocheima cinerarium nucleopolyhedrovirus            1.0           NaN\n",
       "Aspergillus foetidus dsRNA mycovirus                 6.0           NaN\n",
       "Bacillus phage Stitch                               16.0           1.0"
      ]
     },
     "execution_count": 57,
     "metadata": {},
     "output_type": "execute_result"
    }
   ],
   "source": [
    "merged_viruses = pd.DataFrame(dict(normal_counts = normal_counts, viral_counts = viral_counts))\n",
    "merged_viruses.head()"
   ]
  },
  {
   "cell_type": "code",
   "execution_count": 64,
   "metadata": {},
   "outputs": [
    {
     "data": {
      "text/plain": [
       "<matplotlib.axes._subplots.AxesSubplot at 0x7fd77ceb9fd0>"
      ]
     },
     "execution_count": 64,
     "metadata": {},
     "output_type": "execute_result"
    },
    {
     "data": {
      "image/png": "[encoded data removed]",
      "text/plain": [
       "<Figure size 432x288 with 1 Axes>"
      ]
     },
     "metadata": {
      "needs_background": "light"
     },
     "output_type": "display_data"
    }
   ],
   "source": [
    "merged_viruses[(merged_viruses.normal_counts>10) |  (merged_viruses.viral_counts>10)].sort_values(by = ['normal_counts', 'viral_counts'], ascending = False).plot(kind='bar')"
   ]
  }
 ],
 "metadata": {
  "kernelspec": {
   "display_name": "Python 3",
   "language": "python",
   "name": "python3"
  },
  "language_info": {
   "codemirror_mode": {
    "name": "ipython",
    "version": 3
   },
   "file_extension": ".py",
   "mimetype": "text/x-python",
   "name": "python",
   "nbconvert_exporter": "python",
   "pygments_lexer": "ipython3",
   "version": "3.7.7"
  }
 },
 "nbformat": 4,
 "nbformat_minor": 4
}
